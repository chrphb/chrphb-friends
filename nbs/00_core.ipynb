{
 "cells": [
  {
   "cell_type": "markdown",
   "metadata": {},
   "source": [
    "# core\n",
    "\n",
    "> This is the core module : mostly data classes to manage Friends."
   ]
  },
  {
   "cell_type": "code",
   "execution_count": null,
   "metadata": {},
   "outputs": [],
   "source": [
    "#| default_exp core"
   ]
  },
  {
   "cell_type": "code",
   "execution_count": null,
   "metadata": {},
   "outputs": [],
   "source": [
    "#| export\n",
    "\n",
    "from datetime import datetime,date\n",
    "from dateutil import parser as dtparse     \n",
    "from dataclasses import dataclass\n",
    "from uuid import uuid4"
   ]
  },
  {
   "cell_type": "markdown",
   "metadata": {},
   "source": [
    "We write source code first, and then tests come after. The tests serve as both a means to confirm that the code works and also serves as working examples. The first exported function, parsed_date, is an example of this pattern."
   ]
  },
  {
   "cell_type": "code",
   "execution_count": null,
   "metadata": {},
   "outputs": [],
   "source": [
    "#| export\n",
    "def parsed_date(s:str):\n",
    "    \"Convert `s` to a datetime\"\n",
    "    return dtparse.parse(s)"
   ]
  },
  {
   "cell_type": "code",
   "execution_count": null,
   "metadata": {},
   "outputs": [],
   "source": [
    "parsed_date('2pm')"
   ]
  },
  {
   "cell_type": "code",
   "execution_count": null,
   "metadata": {},
   "outputs": [],
   "source": [
    "isinstance(date.fromtimestamp(0), date)"
   ]
  },
  {
   "cell_type": "markdown",
   "metadata": {},
   "source": [
    "The Friend dataclass : this is our main business object.\n",
    "\n",
    "Note that I use [Python dataclass](https://docs.python.org/3/library/dataclasses.html) to define this class."
   ]
  },
  {
   "cell_type": "code",
   "execution_count": null,
   "metadata": {},
   "outputs": [],
   "source": [
    "#| export\n",
    "\n",
    "@dataclass\n",
    "class Friend:\n",
    "    \"\"\"Class for keeping track of a friend item.\"\"\"\n",
    "    id: str\n",
    "    family_name: str\n",
    "    first_name: str\n",
    "    email: str\n",
    "    phone: str\n",
    "    linkedin: str\n",
    "    twitter: str"
   ]
  },
  {
   "cell_type": "code",
   "execution_count": null,
   "metadata": {},
   "outputs": [],
   "source": [
    "f1 = Friend(3, 'doo', 'john', 'john@doo.com', '0000000000', 'linkedin', 'twitter')\n",
    "f1"
   ]
  },
  {
   "cell_type": "code",
   "execution_count": null,
   "metadata": {},
   "outputs": [],
   "source": [
    "#| export\n",
    "\n",
    "from fastsql import *\n",
    "import sqlalchemy as sa"
   ]
  },
  {
   "cell_type": "code",
   "execution_count": null,
   "metadata": {},
   "outputs": [],
   "source": [
    "db = Database(\"sqlite:///:memory:\")"
   ]
  },
  {
   "cell_type": "code",
   "execution_count": null,
   "metadata": {},
   "outputs": [],
   "source": [
    "friends1 = db.create(Friend, pk='id')"
   ]
  },
  {
   "cell_type": "code",
   "execution_count": null,
   "metadata": {},
   "outputs": [],
   "source": [
    "print(db.schema())"
   ]
  },
  {
   "cell_type": "code",
   "execution_count": null,
   "metadata": {},
   "outputs": [],
   "source": [
    "friends1.exists()"
   ]
  },
  {
   "cell_type": "code",
   "execution_count": null,
   "metadata": {},
   "outputs": [],
   "source": [
    "friends1.insert(f1)"
   ]
  },
  {
   "cell_type": "code",
   "execution_count": null,
   "metadata": {},
   "outputs": [],
   "source": [
    "friends1()"
   ]
  },
  {
   "cell_type": "code",
   "execution_count": null,
   "metadata": {},
   "outputs": [],
   "source": [
    "friends1(where=\"family_name = :my\", my=\"doo\") "
   ]
  },
  {
   "cell_type": "markdown",
   "metadata": {},
   "source": [
    "After these tests, let's build our Repository service class."
   ]
  },
  {
   "cell_type": "code",
   "execution_count": null,
   "metadata": {},
   "outputs": [],
   "source": [
    "#| export\n",
    "\n",
    "class Repository:\n",
    "    \"\"\"Repository Service for the Friend dataclass. \n",
    "    The repository implementation is based on SQLLite with a file storage\"\"\"\n",
    "    \n",
    "    def __init__(self, _db_file_path:str):\n",
    "        \"\"\"\n",
    "        Constructor\n",
    "\n",
    "        Parameters:\n",
    "          _db_file_path: relative path of the file (to the script) \n",
    "        \"\"\"\n",
    "        self.db_file_path = _db_file_path\n",
    "        self.create()\n",
    "\n",
    "    def create(self):\n",
    "        \"\"\"\n",
    "        Creates the database\n",
    "        \"\"\"\n",
    "        uri = 'sqlite:///'+self.db_file_path\n",
    "        self.db = Database(uri)\n",
    "        self.store = self.db.create(Friend, pk='id')\n",
    "\n",
    "    def add_obj(self, f:Friend):\n",
    "        random_uuid = uuid4()\n",
    "        \"\"\"\n",
    "        Adds a Friend object to the repository\n",
    "        \"\"\"\n",
    "        self.store.insert(f)\n",
    "\n",
    "    def add(self, family_name: str, \n",
    "            first_name: str,\n",
    "            email: str,\n",
    "            phone: str,\n",
    "            linkedin: str,\n",
    "            twitter: str):\n",
    "        \"\"\"\n",
    "        Creates and Adds a Friend to the repository\n",
    "        \"\"\"\n",
    "        random_uuid = uuid4() # str(random_uuid)\n",
    "        friend = Friend(str(random_uuid), family_name, first_name, email, phone, linkedin, twitter)\n",
    "        self.add_obj(friend)\n",
    "\n",
    "    def friends(self):\n",
    "        return self.store() \n",
    "    \n",
    "    def __repr__(self):\n",
    "        return \"Repository SQLLite at \" + self.db_file_path"
   ]
  },
  {
   "cell_type": "markdown",
   "metadata": {},
   "source": [
    "Let's have an example here.\n",
    "\n",
    "First, we create the repository."
   ]
  },
  {
   "cell_type": "code",
   "execution_count": null,
   "metadata": {},
   "outputs": [],
   "source": [
    "! rm friends_v1.db"
   ]
  },
  {
   "cell_type": "code",
   "execution_count": null,
   "metadata": {},
   "outputs": [],
   "source": [
    "repo = Repository('friends_v1.db')\n",
    "repo"
   ]
  },
  {
   "cell_type": "markdown",
   "metadata": {},
   "source": [
    "You need to call the create method."
   ]
  },
  {
   "cell_type": "code",
   "execution_count": null,
   "metadata": {},
   "outputs": [],
   "source": [
    "repo.add('doo', 'john', 'john@doo.com', '0000000000', 'linkedin', 'twitter')"
   ]
  },
  {
   "cell_type": "markdown",
   "metadata": {},
   "source": [
    "Now, let's retrieve my friends:"
   ]
  },
  {
   "cell_type": "code",
   "execution_count": null,
   "metadata": {},
   "outputs": [],
   "source": [
    "repo.friends()"
   ]
  },
  {
   "cell_type": "code",
   "execution_count": null,
   "metadata": {},
   "outputs": [],
   "source": [
    "#| hide\n",
    "from nbdev.showdoc import *"
   ]
  },
  {
   "cell_type": "code",
   "execution_count": null,
   "metadata": {},
   "outputs": [],
   "source": [
    "#| hide\n",
    "import nbdev; nbdev.nbdev_export()"
   ]
  }
 ],
 "metadata": {
  "kernelspec": {
   "display_name": "python3",
   "language": "python",
   "name": "python3"
  }
 },
 "nbformat": 4,
 "nbformat_minor": 4
}
